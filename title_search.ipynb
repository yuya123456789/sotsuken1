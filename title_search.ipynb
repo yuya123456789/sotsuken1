import pandas as pd

# TSVファイルの読み込み
df = pd.read_csv("participants.tsv", sep="\t")

# 検索文字を入力で受け取る
keyword = input("input task ")

# 4列目に keyword を含む行を抽出（部分一致）
filtered_df = df[df.iloc[:, 3].astype(str).str.contains(keyword, na=False)]

# 出力ファイル名
output_file = f"participants_{keyword}.tsv"

# TSV形式で書き出し
filtered_df.to_csv(output_file, sep="\t", index=False)

print(f"抽出結果を {output_file} に保存しました。")